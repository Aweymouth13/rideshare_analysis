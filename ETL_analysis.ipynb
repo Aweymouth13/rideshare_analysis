{
 "cells": [
  {
   "cell_type": "markdown",
   "id": "cbe5a0fe-322b-4059-8af5-9576f1bb2693",
   "metadata": {},
   "source": [
    "# NYC Ride Share Dateset:\n",
    "\n",
    "## Purpose\n",
    "1. take raw parquet files from NYC Gov website and\n",
    "2. zip them into one large parquet file\n",
    "3. change columns to friendly names\n",
    "4. Drop unneede columns for analysis\n",
    "5. Assign custom measures\n",
    "6. save as a new parquet file\n",
    "7. all subsequent testing of the ML model will be run through this ETL process."
   ]
  },
  {
   "cell_type": "code",
   "execution_count": 1,
   "id": "4df4bd1b-ffc2-4539-ad67-d29cc4f427bd",
   "metadata": {},
   "outputs": [],
   "source": [
    "#library imports\n",
    "import dask.dataframe as dd\n",
    "import os\n",
    "import time\n",
    "\n",
    "start = time.time()"
   ]
  },
  {
   "cell_type": "markdown",
   "id": "f4f9ff33-6faf-4273-b345-1e21b0bd3010",
   "metadata": {},
   "source": [
    "## Data location and merging\n",
    "1. Sets Folder path to source data\n",
    "2. Read in all parquet files in the source folder\n",
    "3. merge them into a singular df"
   ]
  },
  {
   "cell_type": "code",
   "execution_count": 2,
   "id": "4528ced4-10de-4235-aac0-06d8b544c0c1",
   "metadata": {},
   "outputs": [],
   "source": [
    "#source folder for parquet storage\n",
    "source_data_folder = 'source_data'\n",
    "\n",
    "#reads in all parquet files in source_data folder\n",
    "df = dd.read_parquet(source_data_folder, engine='pyarrow')"
   ]
  },
  {
   "cell_type": "markdown",
   "id": "5f0cb025-d401-4bcd-b1c4-16631726fa4f",
   "metadata": {},
   "source": [
    "## Column Rename, Column Drops\n",
    "1. Rename Columns to 'Friendly Names'\n",
    "2. Sets Columns to Drop (ride share flags)"
   ]
  },
  {
   "cell_type": "code",
   "execution_count": 3,
   "id": "b4b96852-4214-40a3-bd65-62b94db2fc7b",
   "metadata": {},
   "outputs": [],
   "source": [
    "#mapping of column names\n",
    "column_mapping = {\n",
    "    'hvfhs_license_num': 'business',\n",
    "    'dispatching_base_num': 'd1',\n",
    "    'originating_base_num': 'd2',\n",
    "    'request_datetime': 'request_time',\n",
    "    'on_scene_datetime': 'on_scene_time',\n",
    "    'pickup_datetime': 'pickup_time',\n",
    "    'dropoff_datetime': 'dropoff_time',\n",
    "    'PULocationID': 'pickup_location',\n",
    "    'DOLocationID': 'dropoff_location',\n",
    "    'trip_miles': 'trip_length',\n",
    "    'trip_time': 'trip_time_seconds',\n",
    "    'base_passenger_fare': 'base_passenger_fare',\n",
    "    'tolls': 'tolls',\n",
    "    'bcf': 'bcf',\n",
    "    'sales_tax': 'sales_tax',\n",
    "    'congestion_surcharge': 'congestion_surcharge',\n",
    "    'airport_fee': 'airport_fee',\n",
    "    'tips': 'tips',\n",
    "    'driver_pay': 'driver_pay',\n",
    "    'shared_request_flag': 'd3',\n",
    "    'shared_match_flag': 'd4',\n",
    "    'access_a_ride_flag': 'd5',\n",
    "    'wav_request_flag': 'd6',\n",
    "    'wav_match_flag': 'd7',\n",
    "    }\n",
    "\n",
    "#columns to drop\n",
    "columns_to_drop = ['d1', 'd2', 'd3', 'd4', 'd5', 'd6', 'd7']\n",
    "\n",
    "\n",
    "#rename\n",
    "df = df.rename(columns=column_mapping)\n",
    "\n",
    "#drop columns\n",
    "df = df.drop(columns=columns_to_drop)\n"
   ]
  },
  {
   "cell_type": "markdown",
   "id": "f3b132ea-bec7-495e-9917-3b5faf593975",
   "metadata": {},
   "source": [
    "## Remapping of values & Custom Measures\n",
    "1. Likely Most Resource Intensive will add timing function for eventual port to cudf"
   ]
  },
  {
   "cell_type": "code",
   "execution_count": 4,
   "id": "eb8b8b47-abe0-4619-9743-d138061601d8",
   "metadata": {},
   "outputs": [],
   "source": [
    "#business mapping\n",
    "replacements = {\n",
    "    'HV0002': 'Juno',\n",
    "    'HV0003': 'Uber',\n",
    "    'HV0004': 'Via',\n",
    "    'HV0005': 'Lyft'\n",
    "}\n",
    "\n",
    "#replace values in business column\n",
    "df['business'] = df['business'].map(replacements).fillna(df['business'])"
   ]
  },
  {
   "cell_type": "markdown",
   "id": "e7082602-035f-41f1-9459-4f30f1ffe5d4",
   "metadata": {},
   "source": [
    "### Time Measures\n",
    "\n",
    "1. Request to Dropoff Time: The duration between the request time and the dropoff time : 'Total Time from Passenger's Perspective'\n",
    "2. Request to Pickup Time: The duration between the request time and the pickup time. : 'The time it took from a request to a pickup'\n",
    "3. Total Ride Time: The duration between the pickup and dropoff time. : 'Total Time Spent in the car'\n",
    "4. On Scene to Pickup Time: The duration between the on-scene time and the pickup time. This can be useful to measure how long it takes for a passenger to board after the vehicle arrives. : 'How long did the driver wait?'\n",
    "5. On Scene to Dropoff Time: The duration between the on-scene time and the dropoff time. This gives a sense of the total time commitment from the driver's perspective once they've arrived at the scene. : 'How much time did the driver invest in this one passenger'"
   ]
  },
  {
   "cell_type": "code",
   "execution_count": 5,
   "id": "1c20230f-b239-497c-b08a-83edfafde8d2",
   "metadata": {},
   "outputs": [],
   "source": [
    "#time measures\n",
    "\n",
    "def time_diff(df, col1, col2):\n",
    "    return df[col1] - df[col2]\n",
    "\n",
    "times = {\n",
    "    'request_to_dropoff': ['dropoff_time', 'request_time'],\n",
    "    'request_to_pickup': ['pickup_time', 'request_time'],\n",
    "    'total_ride_time': ['dropoff_time', 'pickup_time'],\n",
    "    'on_scene_to_pickup': ['pickup_time', 'on_scene_time'],\n",
    "    'on_scene_to_dropoff': ['dropoff_time', 'on_scene_time'] \n",
    "}\n",
    "\n",
    "for key, cols in times.items():\n",
    "    df[key] = time_diff(df, cols[0], cols[1])\n",
    "\n",
    "\n",
    "def time_cat(df):\n",
    "    hour = df['request_time'].dt.hour\n",
    "    df['time_of_day'] = 'night'  # Default value\n",
    "    df.loc[(hour >= 6) & (hour <= 11), 'time_of_day'] = 'morning'\n",
    "    df.loc[(hour >= 12) & (hour <= 16), 'time_of_day'] = 'afternoon'\n",
    "    df.loc[(hour >= 17) & (hour <= 19), 'time_of_day'] = 'evening'\n",
    "    return df\n",
    "\n",
    "# Apply the function to the DataFrame using map_partitions\n",
    "df = df.map_partitions(time_cat)\n",
    "\n",
    "df['date'] = df['request_time'].dt.date \n",
    "df['hour_of_day'] = df['request_time'].dt.hour\n",
    "df['day_of_week'] = df['request_time'].dt.dayofweek\n",
    "df['week_of_year'] = df['request_time'].dt.isocalendar().week\n",
    "df['month_of_year'] = df['request_time'].dt.month"
   ]
  },
  {
   "cell_type": "markdown",
   "id": "c8c10c1d-074b-4ab3-8939-243bf5bab47f",
   "metadata": {},
   "source": [
    "### Pay Measures\n",
    "In this section, we calculate various financial metrics related to rideshare journeys. These metrics provide insights into the earnings and costs associated with each trip from both the passenger's and driver's perspective.\n",
    "\n",
    "1. Passenger Fare: Total amount paid by the passenger for the ride. This includes the base fare, tips, tolls, taxes, surcharges, and any airport fees.\n",
    "2. \n",
    "Driver Total Pay: The amount earned by the driver, comprising their pay and tips\n",
    "3. Rideshare Profit: The difference between what the passenger pays and the amount received by the driver. It represents the company's earnings from the trip.|\n",
    "4. Hourly Rate of Driver: The driver's earnings per hour, calculated using the on-scene time until the dropoff. This metric gives an idea of the driver's earnings efficiency.\n",
    "5. Dollars Per Mile: This measure calculates the driver's earnings per mile driven, providing insight into the profitability of trips based on distance.cnce."
   ]
  },
  {
   "cell_type": "code",
   "execution_count": 6,
   "id": "fa3a74a4-1503-4d21-9ee2-b66719c48158",
   "metadata": {},
   "outputs": [],
   "source": [
    "#what the passenger actually paid to take the ride\n",
    "df['passenger_fare'] = df['base_passenger_fare'] + df['tips'] + df['tolls'] + df['sales_tax'] + df['congestion_surcharge'] + df['airport_fee']\n",
    "\n",
    "#what the driver actually recieved\n",
    "df['driver_total_pay'] = df['driver_pay'] + df['tips']\n",
    "\n",
    "#rideshare profit\n",
    "df['rideshare_profit'] = df['passenger_fare'] - df['driver_pay']\n",
    "\n",
    "#calculate hourly rate of drive\n",
    "#time delta to seconds\n",
    "df['on_scene_seconds'] = df['on_scene_to_dropoff'].dt.total_seconds().astype(float)\n",
    "\n",
    "#calculate on scene hours \n",
    "df['on_scene_hours'] = df['on_scene_seconds'] / 3600 \n",
    "\n",
    "#hourly rate of driver\n",
    "df['hourly_rate'] = df['driver_total_pay'] / df['on_scene_hours']\n",
    "\n",
    "#pay of dollars per mile driven\n",
    "df['dollars_per_mile'] = df['driver_total_pay'] / df['trip_length']"
   ]
  },
  {
   "cell_type": "markdown",
   "id": "4b73f716-9b14-4efd-9ff7-e2fd85ef0206",
   "metadata": {},
   "source": [
    "## Removal of Excess Columns and Export"
   ]
  },
  {
   "cell_type": "code",
   "execution_count": 7,
   "id": "a2bbdb56-975a-4b84-b454-3f5fe551a916",
   "metadata": {},
   "outputs": [],
   "source": [
    "# List of columns to remove\n",
    "columns_to_remove = [\n",
    "    'request_time', 'on_scene_time', 'pickup_time', 'dropoff_time',\n",
    "    'trip_time_seconds', 'base_passenger_fare', 'tolls', 'bcf', 'sales_tax',\n",
    "    'congestion_surcharge', 'airport_fee', 'tips', 'driver_pay',\n",
    "    'on_scene_seconds', 'day_of_week', 'on_scene_hours'\n",
    "]\n",
    "\n",
    "# Dropping the columns from the DataFrame\n",
    "df = df.drop(columns=columns_to_remove)"
   ]
  },
  {
   "cell_type": "code",
   "execution_count": 8,
   "id": "3da87492-5b19-4f4c-b99a-bb3d7099e1a9",
   "metadata": {},
   "outputs": [
    {
     "name": "stdout",
     "output_type": "stream",
     "text": [
      "data saved!\n"
     ]
    }
   ],
   "source": [
    "# Force compute\n",
    "final_df = df.compute()\n",
    "final_df.to_parquet('rideshare_analysis.parquet')\n",
    "print('data saved!')"
   ]
  },
  {
   "cell_type": "code",
   "execution_count": 9,
   "id": "90f5ee24-d29d-417f-ab77-ad7c41704585",
   "metadata": {},
   "outputs": [
    {
     "name": "stdout",
     "output_type": "stream",
     "text": [
      "Operation took: 25.317 seconds\n",
      "Number of rows: 14751591\n",
      "Number of columns: 20\n"
     ]
    }
   ],
   "source": [
    "end = time.time()\n",
    "print(f\"Operation took: {end - start:.3f} seconds\")\n",
    "\n",
    "print('Number of rows:', len(final_df))\n",
    "print('Number of columns:', len(final_df.columns))\n"
   ]
  },
  {
   "cell_type": "code",
   "execution_count": 10,
   "id": "4d3ad3ed-792a-49c8-a50b-f365deb57d1f",
   "metadata": {},
   "outputs": [
    {
     "name": "stdout",
     "output_type": "stream",
     "text": [
      "business                        object\n",
      "pickup_location                  int64\n",
      "dropoff_location                 int64\n",
      "trip_length                    float64\n",
      "request_to_dropoff     timedelta64[ns]\n",
      "request_to_pickup      timedelta64[ns]\n",
      "total_ride_time        timedelta64[ns]\n",
      "on_scene_to_pickup     timedelta64[ns]\n",
      "on_scene_to_dropoff    timedelta64[ns]\n",
      "time_of_day                     object\n",
      "date                            object\n",
      "hour_of_day                      int32\n",
      "day_of_week                      int32\n",
      "week_of_year                    UInt32\n",
      "month_of_year                    int32\n",
      "passenger_fare                 float64\n",
      "driver_total_pay               float64\n",
      "rideshare_profit               float64\n",
      "hourly_rate                    float64\n",
      "dollars_per_mile               float64\n",
      "dtype: object\n"
     ]
    }
   ],
   "source": [
    "print(final_df.dtypes)"
   ]
  },
  {
   "cell_type": "code",
   "execution_count": 11,
   "id": "2d39d911-bea9-4d89-96b2-a610a035a635",
   "metadata": {
    "tags": []
   },
   "outputs": [
    {
     "name": "stdout",
     "output_type": "stream",
     "text": [
      "  business  pickup_location  dropoff_location  trip_length request_to_dropoff  \\\n",
      "0     Uber              170               161         1.18    0 days 00:12:57   \n",
      "1     Uber              237               161         0.82    0 days 00:10:45   \n",
      "2     Uber              237               161         1.18    0 days 00:23:39   \n",
      "3     Uber              262               229         1.65    0 days 00:07:29   \n",
      "4     Uber              229               141         1.65    0 days 00:09:57   \n",
      "\n",
      "  request_to_pickup total_ride_time on_scene_to_pickup on_scene_to_dropoff  \\\n",
      "0   0 days 00:01:53 0 days 00:11:04    0 days 00:01:44     0 days 00:12:48   \n",
      "1   0 days 00:03:05 0 days 00:07:40    0 days 00:00:24     0 days 00:08:04   \n",
      "2   0 days 00:13:44 0 days 00:09:55    0 days 00:00:00     0 days 00:09:55   \n",
      "3   0 days 00:02:26 0 days 00:05:03    0 days 00:00:54     0 days 00:05:57   \n",
      "4   0 days 00:02:16 0 days 00:07:41    0 days 00:02:00     0 days 00:09:41   \n",
      "\n",
      "  time_of_day        date  hour_of_day  day_of_week  week_of_year  \\\n",
      "0       night  2022-01-01            0            5            52   \n",
      "1       night  2022-01-01            0            5            52   \n",
      "2       night  2022-01-01            0            5            52   \n",
      "3       night  2022-01-01            0            5            52   \n",
      "4       night  2022-01-01            0            5            52   \n",
      "\n",
      "   month_of_year  passenger_fare  driver_total_pay  rideshare_profit  \\\n",
      "0              1           29.86             23.03              6.83   \n",
      "1              1           15.78             12.32              3.46   \n",
      "2              1           35.22             23.30             11.92   \n",
      "3              1           11.36              6.30              5.06   \n",
      "4              1           13.03              7.44              5.59   \n",
      "\n",
      "   hourly_rate  dollars_per_mile  \n",
      "0   107.953125         19.516949  \n",
      "1    91.636364         15.024390  \n",
      "2   140.974790         19.745763  \n",
      "3    63.529412          3.818182  \n",
      "4    46.099828          4.509091  \n"
     ]
    }
   ],
   "source": [
    "print(final_df.head())"
   ]
  },
  {
   "cell_type": "code",
   "execution_count": null,
   "id": "a1045308-8d73-4bb6-a20b-8c03b76d41bd",
   "metadata": {},
   "outputs": [],
   "source": []
  }
 ],
 "metadata": {
  "kernelspec": {
   "display_name": "Python 3 (ipykernel)",
   "language": "python",
   "name": "python3"
  },
  "language_info": {
   "codemirror_mode": {
    "name": "ipython",
    "version": 3
   },
   "file_extension": ".py",
   "mimetype": "text/x-python",
   "name": "python",
   "nbconvert_exporter": "python",
   "pygments_lexer": "ipython3",
   "version": "3.8.18"
  }
 },
 "nbformat": 4,
 "nbformat_minor": 5
}
